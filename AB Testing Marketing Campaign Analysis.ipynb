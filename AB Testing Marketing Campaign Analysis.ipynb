{
 "cells": [
  {
   "cell_type": "code",
   "execution_count": 1,
   "id": "37ee90fc",
   "metadata": {},
   "outputs": [],
   "source": [
    "import pandas as pd\n",
    "import seaborn as sns\n",
    "import matplotlib.pyplot as plt\n",
    "from statsmodels.stats.proportion import proportions_ztest\n",
    "import numpy as np\n",
    "from scipy import stats"
   ]
  },
  {
   "cell_type": "code",
   "execution_count": 2,
   "id": "26f00f4a",
   "metadata": {},
   "outputs": [
    {
     "data": {
      "text/html": [
       "<div>\n",
       "<style scoped>\n",
       "    .dataframe tbody tr th:only-of-type {\n",
       "        vertical-align: middle;\n",
       "    }\n",
       "\n",
       "    .dataframe tbody tr th {\n",
       "        vertical-align: top;\n",
       "    }\n",
       "\n",
       "    .dataframe thead th {\n",
       "        text-align: right;\n",
       "    }\n",
       "</style>\n",
       "<table border=\"1\" class=\"dataframe\">\n",
       "  <thead>\n",
       "    <tr style=\"text-align: right;\">\n",
       "      <th></th>\n",
       "      <th>Unnamed: 0</th>\n",
       "      <th>user id</th>\n",
       "      <th>test group</th>\n",
       "      <th>converted</th>\n",
       "      <th>total ads</th>\n",
       "      <th>most ads day</th>\n",
       "      <th>most ads hour</th>\n",
       "    </tr>\n",
       "  </thead>\n",
       "  <tbody>\n",
       "    <tr>\n",
       "      <th>0</th>\n",
       "      <td>0</td>\n",
       "      <td>1069124</td>\n",
       "      <td>ad</td>\n",
       "      <td>False</td>\n",
       "      <td>130</td>\n",
       "      <td>Monday</td>\n",
       "      <td>20</td>\n",
       "    </tr>\n",
       "    <tr>\n",
       "      <th>1</th>\n",
       "      <td>1</td>\n",
       "      <td>1119715</td>\n",
       "      <td>ad</td>\n",
       "      <td>False</td>\n",
       "      <td>93</td>\n",
       "      <td>Tuesday</td>\n",
       "      <td>22</td>\n",
       "    </tr>\n",
       "    <tr>\n",
       "      <th>2</th>\n",
       "      <td>2</td>\n",
       "      <td>1144181</td>\n",
       "      <td>ad</td>\n",
       "      <td>False</td>\n",
       "      <td>21</td>\n",
       "      <td>Tuesday</td>\n",
       "      <td>18</td>\n",
       "    </tr>\n",
       "    <tr>\n",
       "      <th>3</th>\n",
       "      <td>3</td>\n",
       "      <td>1435133</td>\n",
       "      <td>ad</td>\n",
       "      <td>False</td>\n",
       "      <td>355</td>\n",
       "      <td>Tuesday</td>\n",
       "      <td>10</td>\n",
       "    </tr>\n",
       "    <tr>\n",
       "      <th>4</th>\n",
       "      <td>4</td>\n",
       "      <td>1015700</td>\n",
       "      <td>ad</td>\n",
       "      <td>False</td>\n",
       "      <td>276</td>\n",
       "      <td>Friday</td>\n",
       "      <td>14</td>\n",
       "    </tr>\n",
       "  </tbody>\n",
       "</table>\n",
       "</div>"
      ],
      "text/plain": [
       "   Unnamed: 0  user id test group  converted  total ads most ads day   \n",
       "0           0  1069124         ad      False        130       Monday  \\\n",
       "1           1  1119715         ad      False         93      Tuesday   \n",
       "2           2  1144181         ad      False         21      Tuesday   \n",
       "3           3  1435133         ad      False        355      Tuesday   \n",
       "4           4  1015700         ad      False        276       Friday   \n",
       "\n",
       "   most ads hour  \n",
       "0             20  \n",
       "1             22  \n",
       "2             18  \n",
       "3             10  \n",
       "4             14  "
      ]
     },
     "execution_count": 2,
     "metadata": {},
     "output_type": "execute_result"
    }
   ],
   "source": [
    "# Load the dataset\n",
    "df = pd.read_csv('/Users/hemanthnarlasubramanyam/Documents/PYTHON PROJECTS/marketing_AB 2.csv')\n",
    "\n",
    "# Display the first few rows\n",
    "df.head()"
   ]
  },
  {
   "cell_type": "code",
   "execution_count": 3,
   "id": "887bcd55",
   "metadata": {},
   "outputs": [
    {
     "name": "stdout",
     "output_type": "stream",
     "text": [
      "<class 'pandas.core.frame.DataFrame'>\n",
      "RangeIndex: 588101 entries, 0 to 588100\n",
      "Data columns (total 7 columns):\n",
      " #   Column         Non-Null Count   Dtype \n",
      "---  ------         --------------   ----- \n",
      " 0   Unnamed: 0     588101 non-null  int64 \n",
      " 1   user id        588101 non-null  int64 \n",
      " 2   test group     588101 non-null  object\n",
      " 3   converted      588101 non-null  bool  \n",
      " 4   total ads      588101 non-null  int64 \n",
      " 5   most ads day   588101 non-null  object\n",
      " 6   most ads hour  588101 non-null  int64 \n",
      "dtypes: bool(1), int64(4), object(2)\n",
      "memory usage: 27.5+ MB\n"
     ]
    }
   ],
   "source": [
    "#Overview of the datasets\n",
    "df.info()"
   ]
  },
  {
   "cell_type": "code",
   "execution_count": 4,
   "id": "23b283c4",
   "metadata": {},
   "outputs": [
    {
     "data": {
      "text/plain": [
       "Unnamed: 0       0\n",
       "user id          0\n",
       "test group       0\n",
       "converted        0\n",
       "total ads        0\n",
       "most ads day     0\n",
       "most ads hour    0\n",
       "dtype: int64"
      ]
     },
     "execution_count": 4,
     "metadata": {},
     "output_type": "execute_result"
    }
   ],
   "source": [
    "#checking the missing values\n",
    "df.isnull().sum()"
   ]
  },
  {
   "cell_type": "code",
   "execution_count": 8,
   "id": "714fd2ba",
   "metadata": {},
   "outputs": [
    {
     "data": {
      "text/plain": [
       "0"
      ]
     },
     "execution_count": 8,
     "metadata": {},
     "output_type": "execute_result"
    }
   ],
   "source": [
    "#checking for dupilcates\n",
    "df.duplicated().sum()"
   ]
  },
  {
   "cell_type": "code",
   "execution_count": 9,
   "id": "b8d7fba4",
   "metadata": {},
   "outputs": [
    {
     "data": {
      "text/html": [
       "<div>\n",
       "<style scoped>\n",
       "    .dataframe tbody tr th:only-of-type {\n",
       "        vertical-align: middle;\n",
       "    }\n",
       "\n",
       "    .dataframe tbody tr th {\n",
       "        vertical-align: top;\n",
       "    }\n",
       "\n",
       "    .dataframe thead th {\n",
       "        text-align: right;\n",
       "    }\n",
       "</style>\n",
       "<table border=\"1\" class=\"dataframe\">\n",
       "  <thead>\n",
       "    <tr style=\"text-align: right;\">\n",
       "      <th></th>\n",
       "      <th>user id</th>\n",
       "      <th>test group</th>\n",
       "      <th>converted</th>\n",
       "      <th>total ads</th>\n",
       "      <th>most ads day</th>\n",
       "      <th>most ads hour</th>\n",
       "    </tr>\n",
       "  </thead>\n",
       "  <tbody>\n",
       "    <tr>\n",
       "      <th>0</th>\n",
       "      <td>1069124</td>\n",
       "      <td>ad</td>\n",
       "      <td>False</td>\n",
       "      <td>130</td>\n",
       "      <td>Monday</td>\n",
       "      <td>20</td>\n",
       "    </tr>\n",
       "    <tr>\n",
       "      <th>1</th>\n",
       "      <td>1119715</td>\n",
       "      <td>ad</td>\n",
       "      <td>False</td>\n",
       "      <td>93</td>\n",
       "      <td>Tuesday</td>\n",
       "      <td>22</td>\n",
       "    </tr>\n",
       "    <tr>\n",
       "      <th>2</th>\n",
       "      <td>1144181</td>\n",
       "      <td>ad</td>\n",
       "      <td>False</td>\n",
       "      <td>21</td>\n",
       "      <td>Tuesday</td>\n",
       "      <td>18</td>\n",
       "    </tr>\n",
       "    <tr>\n",
       "      <th>3</th>\n",
       "      <td>1435133</td>\n",
       "      <td>ad</td>\n",
       "      <td>False</td>\n",
       "      <td>355</td>\n",
       "      <td>Tuesday</td>\n",
       "      <td>10</td>\n",
       "    </tr>\n",
       "    <tr>\n",
       "      <th>4</th>\n",
       "      <td>1015700</td>\n",
       "      <td>ad</td>\n",
       "      <td>False</td>\n",
       "      <td>276</td>\n",
       "      <td>Friday</td>\n",
       "      <td>14</td>\n",
       "    </tr>\n",
       "  </tbody>\n",
       "</table>\n",
       "</div>"
      ],
      "text/plain": [
       "   user id test group  converted  total ads most ads day  most ads hour\n",
       "0  1069124         ad      False        130       Monday             20\n",
       "1  1119715         ad      False         93      Tuesday             22\n",
       "2  1144181         ad      False         21      Tuesday             18\n",
       "3  1435133         ad      False        355      Tuesday             10\n",
       "4  1015700         ad      False        276       Friday             14"
      ]
     },
     "execution_count": 9,
     "metadata": {},
     "output_type": "execute_result"
    }
   ],
   "source": [
    "#Dropping unnecessary columns\n",
    "df.drop('Unnamed: 0' , axis = 1 , inplace = True)\n",
    "\n",
    "df.head()"
   ]
  },
  {
   "cell_type": "markdown",
   "id": "3f44daf0",
   "metadata": {},
   "source": [
    "The dataset is clean and ready for analysis with no missing values or duplicates. "
   ]
  },
  {
   "cell_type": "markdown",
   "id": "427da2c6",
   "metadata": {},
   "source": [
    "# Exploratory Data Analysis"
   ]
  },
  {
   "cell_type": "code",
   "execution_count": 13,
   "id": "e6a8da2a",
   "metadata": {},
   "outputs": [
    {
     "name": "stdout",
     "output_type": "stream",
     "text": [
      "test group\n",
      "ad     564577\n",
      "psa     23524\n",
      "Name: user id, dtype: int64\n"
     ]
    }
   ],
   "source": [
    "# Number of used_id by each test_group \n",
    "df_tg = df.groupby(['test group'])['user id'].nunique()\n",
    "print(df_tg)"
   ]
  },
  {
   "cell_type": "code",
   "execution_count": 15,
   "id": "b0c207c2",
   "metadata": {},
   "outputs": [
    {
     "data": {
      "image/png": "[encoded data removed]",
      "text/plain": [
       "<Figure size 640x480 with 1 Axes>"
      ]
     },
     "metadata": {},
     "output_type": "display_data"
    }
   ],
   "source": [
    "# Plot distribution of users by test group\n",
    "sns.countplot(data=df, x='test group')\n",
    "plt.title('Distribution of User ID by Test Group')\n",
    "plt.xlabel('Test Group')\n",
    "plt.ylabel('Number of Users')\n",
    "plt.show()"
   ]
  },
  {
   "cell_type": "markdown",
   "id": "87bc70ef",
   "metadata": {},
   "source": [
    "# Feature Engineering"
   ]
  },
  {
   "cell_type": "markdown",
   "id": "030f3c07",
   "metadata": {},
   "source": [
    "Now, let’s calculate the conversion rate and see how this marketing campaign performed."
   ]
  },
  {
   "cell_type": "code",
   "execution_count": 20,
   "id": "d054e215",
   "metadata": {},
   "outputs": [
    {
     "name": "stdout",
     "output_type": "stream",
     "text": [
      "Conversion rate = 2.52%\n"
     ]
    }
   ],
   "source": [
    "# Conversion rate calculation\n",
    "conversion_rate = (df['converted'].sum() / df['user id'].nunique()) * 100\n",
    "\n",
    "# Display the conversion rate with two decimal places\n",
    "print('Conversion rate = {:.2f}%'.format(conversion_rate))"
   ]
  },
  {
   "cell_type": "code",
   "execution_count": null,
   "id": "4bcb2398",
   "metadata": {},
   "outputs": [],
   "source": []
  },
  {
   "cell_type": "markdown",
   "id": "ba8baf9b",
   "metadata": {},
   "source": [
    " The conversion rate we got doesn’t prove that the ads are successful. We need to check more closely."
   ]
  },
  {
   "cell_type": "code",
   "execution_count": 26,
   "id": "cbf500b3",
   "metadata": {},
   "outputs": [
    {
     "name": "stdout",
     "output_type": "stream",
     "text": [
      "Purchase Rate for 'Ad' Group: 2.55%\n",
      "Purchase Rate for 'PSA' Group: 1.79%\n"
     ]
    }
   ],
   "source": [
    "# DataFrames for Ads and PSA groups\n",
    "df_ad = df[df['test group'] == 'ad']\n",
    "df_psa = df[df['test group'] == 'psa']\n",
    "\n",
    "# Number of conversions in each group\n",
    "count_conversions_ad = df_ad['converted'].sum()\n",
    "count_conversions_psa = df_psa['converted'].sum()\n",
    "\n",
    "# Total number of unique users in each group\n",
    "total_observations_ad = df_ad['user id'].nunique()\n",
    "total_observations_psa = df_psa['user id'].nunique()\n",
    "\n",
    "# Conversion rates for Ads and PSA groups\n",
    "purchase_rate_ad = (count_conversions_ad / total_observations_ad) * 100\n",
    "purchase_rate_psa = (count_conversions_psa / total_observations_psa) * 100\n",
    "\n",
    "print(\"Purchase Rate for 'Ad' Group: {:.2f}%\".format(purchase_rate_ad))\n",
    "print(\"Purchase Rate for 'PSA' Group: {:.2f}%\".format(purchase_rate_psa))"
   ]
  },
  {
   "cell_type": "code",
   "execution_count": 27,
   "id": "08fe7383",
   "metadata": {},
   "outputs": [
    {
     "data": {
      "image/png": "[encoded data removed]",
      "text/plain": [
       "<Figure size 1000x600 with 1 Axes>"
      ]
     },
     "metadata": {},
     "output_type": "display_data"
    }
   ],
   "source": [
    "# Plot the conversion rates\n",
    "fig, ax = plt.subplots(figsize=(10, 6))\n",
    "\n",
    "# Bar plot\n",
    "ax.bar('Ad', purchase_rate_ad, label='Ads')\n",
    "ax.bar('PSA', purchase_rate_psa, label='PSA')\n",
    "\n",
    "# Add labels\n",
    "ax.set_ylabel('Conversion Rate (%)', fontsize=14)\n",
    "ax.set_xlabel('Test Group', fontsize=14)\n",
    "ax.legend(fontsize=14)\n",
    "plt.show()"
   ]
  },
  {
   "cell_type": "markdown",
   "id": "5409ef47",
   "metadata": {},
   "source": [
    "The conversion rate results indicate that the Ads are more successful than the PSA, with a conversion rate of 2.55% compared to 1.79%. This suggests that the Ads are effective, but we need a statistical analysis to confirm if this difference is significant and if the campaign can be considered a success."
   ]
  },
  {
   "cell_type": "markdown",
   "id": "96a3dad1",
   "metadata": {},
   "source": [
    "### Hypothesis Testing (Z-Test)"
   ]
  },
  {
   "cell_type": "code",
   "execution_count": 28,
   "id": "f01ff6a6",
   "metadata": {},
   "outputs": [
    {
     "name": "stdout",
     "output_type": "stream",
     "text": [
      "Z-Score: 7.3701\n",
      "P-Value: 0.0000\n",
      "Reject Null Hypothesis: Ads group has a significantly higher conversion rate.\n"
     ]
    }
   ],
   "source": [
    "# Data for hypothesis test\n",
    "count_purchase = [count_conversions_ad, count_conversions_psa]\n",
    "count_observation = [total_observations_ad, total_observations_psa]\n",
    "\n",
    "# One-sided Z-test\n",
    "z_stat, p_value = proportions_ztest(count=count_purchase, nobs=count_observation, alternative='larger')\n",
    "\n",
    "# Display Z-score and P-value\n",
    "print(f\"Z-Score: {z_stat:.4f}\")\n",
    "print(f\"P-Value: {p_value:.4f}\")\n",
    "\n",
    "# Conclusion based on P-value\n",
    "alpha = 0.05\n",
    "if p_value < alpha:\n",
    "    print(\"Reject Null Hypothesis: Ads group has a significantly higher conversion rate.\")\n",
    "else:\n",
    "    print(\"Fail to Reject Null Hypothesis: No significant difference between Ads and PSA conversion rates.\")"
   ]
  },
  {
   "cell_type": "markdown",
   "id": "5bb10763",
   "metadata": {},
   "source": [
    "## Decision Rule and Critical Value"
   ]
  },
  {
   "cell_type": "code",
   "execution_count": 29,
   "id": "f1127c36",
   "metadata": {},
   "outputs": [
    {
     "name": "stdout",
     "output_type": "stream",
     "text": [
      "Critical Value (Z): 1.6449\n",
      "Decision: Reject Null Hypothesis\n"
     ]
    }
   ],
   "source": [
    "# Critical value for a one-sided test (right tail)\n",
    "z_crit = stats.norm.ppf(1 - alpha)\n",
    "print(f\"Critical Value (Z): {z_crit:.4f}\")\n",
    "\n",
    "# Make decision based on Z-statistic\n",
    "if z_stat > z_crit:\n",
    "    print(\"Decision: Reject Null Hypothesis\")\n",
    "else:\n",
    "    print(\"Decision: Fail to Reject Null Hypothesis\")"
   ]
  },
  {
   "cell_type": "code",
   "execution_count": 31,
   "id": "949f4d9f",
   "metadata": {},
   "outputs": [
    {
     "data": {
      "image/png": "[encoded data removed]",
      "text/plain": [
       "<Figure size 1000x700 with 1 Axes>"
      ]
     },
     "metadata": {},
     "output_type": "display_data"
    }
   ],
   "source": [
    "# Plot standard normal distribution\n",
    "fig, ax = plt.subplots(figsize=(10, 7))\n",
    "\n",
    "# Standard normal distribution curve\n",
    "x = np.arange(-4, 4, 0.001)\n",
    "plt.plot(x, stats.norm.pdf(x, 0, 1), color='blue', label='Standard Normal Distribution')\n",
    "\n",
    "# Alpha region (right tail)\n",
    "x_alpha_right = np.arange(z_crit, 4, 0.001)\n",
    "y_alpha_right = stats.norm.pdf(x_alpha_right)\n",
    "plt.fill_between(x=x_alpha_right, y1=y_alpha_right, facecolor='red', alpha=0.35, label='Alpha Region')\n",
    "\n",
    "# P-value region\n",
    "x_pvalue = np.arange(z_stat, 4, 0.001)\n",
    "y_pvalue = stats.norm.pdf(x_pvalue)\n",
    "plt.fill_between(x=x_pvalue, y1=y_pvalue, facecolor='green', alpha=0.35, label='P-Value Region')\n",
    "\n",
    "# Plot Z-statistic and Z-critical\n",
    "plt.axvline(z_stat, color=\"green\", linestyle=\"--\", label=\"Z-Statistic\")\n",
    "plt.axvline(z_crit, color=\"red\", linestyle=\"--\", label=\"Z-Critical Value\")\n",
    "\n",
    "# Add labels\n",
    "plt.legend()\n",
    "plt.xlabel(\"Z\")\n",
    "plt.ylabel(\"Density\")\n",
    "plt.title(\"One-Sided Z-Test Visualization\")\n",
    "plt.grid(True)\n",
    "plt.show()"
   ]
  },
  {
   "cell_type": "markdown",
   "id": "8ba7a366",
   "metadata": {},
   "source": [
    "Here are the results and visualizations from the one-sided Z-test:\n",
    "\n",
    "* Critical Value (Right Tail): 1.645\n",
    "* Z-Statistic: 7.3701\n",
    "* P-Value: 8.53e-14"
   ]
  },
  {
   "cell_type": "markdown",
   "id": "b575c527",
   "metadata": {},
   "source": [
    "## Conclusion:\n",
    "* Statistical Significance: The z-test results demonstrate a highly significant statistical difference in conversion rates between the ‘Ads’ group and the ‘PSA’ group.\n",
    "* Business Impact: The ‘Ads’ group has achieved a notably higher conversion rate compared to the Public Service Announcement (PSA) group. This indicates the success of the advertising campaign implemented by the ‘Ads’ group in driving conversions."
   ]
  }
 ],
 "metadata": {
  "kernelspec": {
   "display_name": "Python 3 (ipykernel)",
   "language": "python",
   "name": "python3"
  },
  "language_info": {
   "codemirror_mode": {
    "name": "ipython",
    "version": 3
   },
   "file_extension": ".py",
   "mimetype": "text/x-python",
   "name": "python",
   "nbconvert_exporter": "python",
   "pygments_lexer": "ipython3",
   "version": "3.11.5"
  }
 },
 "nbformat": 4,
 "nbformat_minor": 5
}
